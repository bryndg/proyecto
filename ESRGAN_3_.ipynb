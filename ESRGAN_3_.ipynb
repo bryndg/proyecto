{
  "nbformat": 4,
  "nbformat_minor": 0,
  "metadata": {
    "colab": {
      "name": "ESRGAN_3_.ipynb",
      "provenance": [],
      "collapsed_sections": [
        "Bi7GziskW-p5",
        "d8dvwYOp-ArK",
        "5hWzfWBn8-nP"
      ],
      "toc_visible": true
    },
    "kernelspec": {
      "name": "python3",
      "display_name": "Python 3"
    },
    "accelerator": "GPU"
  },
  "cells": [
    {
      "cell_type": "markdown",
      "metadata": {
        "id": "r6VnlRGZ9PiH"
      },
      "source": [
        "# ESRGAN (Enhanced Super-Resolution Generative Adversarial Networks)\n",
        "La Red Generadora Adversaria de Súper Resolución Mejorada, o ESRGAN, es un método capaz de generar texturas realistas ampliando la resolución de una imagen. Básicamente es una técnica de aprendizaje automático que utiliza una red adversaria generativa para agrandar la escala de imágenes más pequeñas."
      ]
    },
    {
      "cell_type": "markdown",
      "metadata": {
        "id": "Q4JXZcJKsn5p"
      },
      "source": [
        "##<h1>PASO 1. Comprobación de GPU actual</h1>\n",
        "<h4>GPUs recomendados son P100 y T4\n"
      ]
    },
    {
      "cell_type": "code",
      "metadata": {
        "id": "Os9gHotRC8y1",
        "outputId": "8e94da50-9f9d-42a5-d846-6ee897c9b691",
        "colab": {
          "base_uri": "https://localhost:8080/",
          "height": 51
        }
      },
      "source": [
        "!nvidia-smi --query-gpu=gpu_name,driver_version,memory.total --format=csv"
      ],
      "execution_count": 1,
      "outputs": [
        {
          "output_type": "stream",
          "text": [
            "name, driver_version, memory.total [MiB]\n",
            "Tesla T4, 418.67, 15079 MiB\n"
          ],
          "name": "stdout"
        }
      ]
    },
    {
      "cell_type": "markdown",
      "metadata": {
        "id": "Bi7GziskW-p5"
      },
      "source": [
        "## <h1>PASO 2. Clonación de repositorio</h1>\n"
      ]
    },
    {
      "cell_type": "code",
      "metadata": {
        "id": "E-qvTH2nWSDN",
        "outputId": "6651d4eb-2354-43fd-ddf6-0d2e450d1f02",
        "colab": {
          "base_uri": "https://localhost:8080/",
          "height": 0
        }
      },
      "source": [
        "!git clone https://github.com/xinntao/ESRGAN\n"
      ],
      "execution_count": 2,
      "outputs": [
        {
          "output_type": "stream",
          "text": [
            "Cloning into 'ESRGAN'...\n",
            "remote: Enumerating objects: 216, done.\u001b[K\n",
            "remote: Total 216 (delta 0), reused 0 (delta 0), pack-reused 216\u001b[K\n",
            "Receiving objects: 100% (216/216), 24.86 MiB | 44.89 MiB/s, done.\n",
            "Resolving deltas: 100% (80/80), done.\n"
          ],
          "name": "stdout"
        }
      ]
    },
    {
      "cell_type": "code",
      "metadata": {
        "id": "WnmdDQBZf5s2"
      },
      "source": [
        ""
      ],
      "execution_count": 2,
      "outputs": []
    },
    {
      "cell_type": "markdown",
      "metadata": {
        "id": "d8dvwYOp-ArK"
      },
      "source": [
        "## <h1>PASO 3. Descargar modelos previamente entrenados</h1>"
      ]
    },
    {
      "cell_type": "code",
      "metadata": {
        "id": "xsO_9uQelXoG",
        "outputId": "c883d9dd-1003-4042-af57-be7a7e5d39e4",
        "colab": {
          "base_uri": "https://localhost:8080/",
          "height": 0
        }
      },
      "source": [
        "import gdown\n",
        "print(\"Downloading pretrained models\")\n",
        "output1 = '/content/ESRGAN/models/RRDB_ESRGAN_x4.pth'\n",
        "output2 = '/content/ESRGAN/models/RRDB_PSNR_x4.pth'\n",
        "output3 = '/content/ESRGAN/models/PPON_D.pth'\n",
        "output4 = '/content/ESRGAN/models/PPON_G.pth'\n",
        "print ('Downloading RRDB_ESRGAN_x4.pth')\n",
        "gdown.download('https://drive.google.com/uc?id=1TPrz5QKd8DHHt1k8SRtm6tMiPjz_Qene', output1, quiet=True) \n",
        "print ('Downloading RRDB_PSNR_x4.pth')\n",
        "gdown.download('https://drive.google.com/uc?id=1pJ_T-V1dpb1ewoEra1TGSWl5e6H7M4NN', output2, quiet=True)\n",
        "print ('Downloading PPON_D.pth by Zheng Hui')\n",
        "gdown.download('https://drive.google.com/uc?id=1Fr5aKCD6mw6P-hI0BZr6My2gHNhtUk-V', output3, quiet=True) \n",
        "print ('Downloading PPON_G.pth by Zheng Hui')\n",
        "gdown.download('https://drive.google.com/uc?id=12uR3BSftNA0HDYiKda23GyAj_crpSjOm', output4, quiet=True)  "
      ],
      "execution_count": 3,
      "outputs": [
        {
          "output_type": "stream",
          "text": [
            "Downloading pretrained models\n",
            "Downloading RRDB_ESRGAN_x4.pth\n",
            "Downloading RRDB_PSNR_x4.pth\n",
            "Downloading PPON_D.pth by Zheng Hui\n",
            "Downloading PPON_G.pth by Zheng Hui\n"
          ],
          "name": "stdout"
        },
        {
          "output_type": "execute_result",
          "data": {
            "application/vnd.google.colaboratory.intrinsic+json": {
              "type": "string"
            },
            "text/plain": [
              "'/content/ESRGAN/models/PPON_G.pth'"
            ]
          },
          "metadata": {
            "tags": []
          },
          "execution_count": 3
        }
      ]
    },
    {
      "cell_type": "markdown",
      "metadata": {
        "id": "umnryHTE7XaY"
      },
      "source": [
        "## <h1>Paso 4. Agrega tus propios archivos desde tu PC\n",
        "\n",
        "\n",
        "\n"
      ]
    },
    {
      "cell_type": "code",
      "metadata": {
        "id": "aq-aRdCbKRQ3",
        "outputId": "77355cb5-be02-4bce-dd2d-507eb54d6f2c",
        "colab": {
          "base_uri": "https://localhost:8080/",
          "height": 34
        }
      },
      "source": [
        "from google.colab import drive \n",
        "drive.mount('/content/drive')  "
      ],
      "execution_count": 4,
      "outputs": [
        {
          "output_type": "stream",
          "text": [
            "Mounted at /content/drive\n"
          ],
          "name": "stdout"
        }
      ]
    },
    {
      "cell_type": "code",
      "metadata": {
        "id": "HX_x_Ks4iixk",
        "outputId": "a8815b69-3201-45ff-9afd-a728ff782d9a",
        "colab": {
          "base_uri": "https://localhost:8080/",
          "height": 102
        }
      },
      "source": [
        "!apt install unzip"
      ],
      "execution_count": 5,
      "outputs": [
        {
          "output_type": "stream",
          "text": [
            "Reading package lists... Done\n",
            "Building dependency tree       \n",
            "Reading state information... Done\n",
            "unzip is already the newest version (6.0-21ubuntu1).\n",
            "0 upgraded, 0 newly installed, 0 to remove and 21 not upgraded.\n"
          ],
          "name": "stdout"
        }
      ]
    },
    {
      "cell_type": "code",
      "metadata": {
        "id": "v3uTHVc8iqEC",
        "cellView": "both"
      },
      "source": [
        " #@markdown  Directorio de archivo origen (ZIP) de Drive y descompresion en FRAME_INPUT_DIR\n",
        " ZIP_INPUT_DIR = '/content/drive/My Drive/DAIN_3_OUT.zip' #@param{type:\"string\"}\n",
        "\n",
        " !unzip -q '{ZIP_INPUT_DIR}' -d '/content/ESRGAN'"
      ],
      "execution_count": 8,
      "outputs": []
    },
    {
      "cell_type": "markdown",
      "metadata": {
        "id": "8taWI7VI43A7"
      },
      "source": [
        "## <h1>PASO 5. Selección del modelo y escalamiento frame a frame\n",
        "<h4>Configure el código y ejecute la celda para mejorar la escala de imágenes / fotogramas de video\n",
        "\n",
        "\n"
      ]
    },
    {
      "cell_type": "code",
      "metadata": {
        "id": "Rqh162AbbsjB",
        "cellView": "both",
        "outputId": "8806bd47-5a5f-43b6-c133-7d7446a9d3f0",
        "colab": {
          "base_uri": "https://localhost:8080/",
          "height": 238
        }
      },
      "source": [
        "%cd /content/ESRGAN\n",
        "\n",
        "import os.path as osp\n",
        "import glob\n",
        "import cv2\n",
        "import numpy as np\n",
        "import torch\n",
        "import RRDBNet_arch as arch\n",
        "import requests\n",
        "import imageio\n",
        "import requests\n",
        "import warnings\n",
        "warnings.filterwarnings(\"ignore\")\n",
        "from google.colab import files\n",
        "\n",
        "Choose_device = \"cuda\"  #@param [\"cuda\",\"cpu\"]\n",
        "\n",
        "model_path = 'models/RRDB_ESRGAN_x4.pth' #@param ['models/RRDB_ESRGAN_x4.pth','models/RRDB_PSNR_x4.pth','models/PPON_G.pth','models/PPON_D.pth']  \n",
        "device = torch.device(Choose_device) \n",
        "\n",
        "\n",
        "test_img_folder = '/content/ESRGAN/input_frames/*'  #@param{type:\"string\"}\n",
        "\n",
        "model = arch.RRDBNet(3, 3, 64, 23, gc=32)\n",
        "model.load_state_dict(torch.load(model_path), strict=True)\n",
        "model.eval()\n",
        "model = model.to(device)\n",
        "\n",
        "print('Model path {:s}. \\nTesting...'.format(model_path))\n",
        "\n",
        "idx = 0\n",
        "for path in glob.glob(test_img_folder):\n",
        "    idx += 1\n",
        "    base = osp.splitext(osp.basename(path))[0]\n",
        "    print(idx, base)\n",
        "    # read images\n",
        "    img = cv2.imread(path, cv2.IMREAD_COLOR)\n",
        "    img = img * 1.0 / 255\n",
        "    img = torch.from_numpy(np.transpose(img[:, :, [2, 1, 0]], (2, 0, 1))).float()\n",
        "    img_LR = img.unsqueeze(0)\n",
        "    img_LR = img_LR.to(device)\n",
        "\n",
        "    with torch.no_grad():\n",
        "        output = model(img_LR).data.squeeze().float().cpu().clamp_(0, 1).numpy()\n",
        "    output = np.transpose(output[[2, 1, 0], :, :], (1, 2, 0))\n",
        "    output = (output * 255.0).round()\n",
        "    cv2.imwrite('results/{:s}.png'.format(base), output)"
      ],
      "execution_count": null,
      "outputs": [
        {
          "output_type": "stream",
          "text": [
            "/content/ESRGAN\n",
            "Model path models/RRDB_ESRGAN_x4.pth. \n",
            "Testing...\n",
            "1 00858000\n",
            "2 00847001\n",
            "3 00944001\n",
            "4 00987001\n",
            "5 01051000\n",
            "6 00930000\n",
            "7 01014001\n",
            "8 00959001\n",
            "9 01018001\n",
            "10 00953001\n"
          ],
          "name": "stdout"
        }
      ]
    },
    {
      "cell_type": "markdown",
      "metadata": {
        "id": "-6MfrTPk68a4"
      },
      "source": [
        "## <h1>PASO 6. ZIP final con los frames escalados."
      ]
    },
    {
      "cell_type": "code",
      "metadata": {
        "id": "Ag6r3bQEx4RM"
      },
      "source": [
        " #@markdown  Directorio del ZIP final en Drive\n",
        " ZIP_INPUT_DIR = '/content/drive/My Drive/ESRGAN_DAIN_3_OUT.zip' #@param{type:\"string\"}\n",
        "\n",
        "!zip -r '{ZIP_INPUT_DIR}' /content/ESRGAN/results"
      ],
      "execution_count": null,
      "outputs": []
    }
  ]
}